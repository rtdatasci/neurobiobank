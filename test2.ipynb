{
 "cells": [
  {
   "cell_type": "code",
   "execution_count": 2,
   "metadata": {},
   "outputs": [],
   "source": [
    "import sqlite3\n",
    "\n",
    "# Connect to SQLite (or create a new database)\n",
    "conn = sqlite3.connect('toy_clinical_data.db')\n",
    "cursor = conn.cursor()"
   ]
  },
  {
   "cell_type": "code",
   "execution_count": 3,
   "metadata": {},
   "outputs": [
    {
     "name": "stdout",
     "output_type": "stream",
     "text": [
      "Database created and populated successfully!\n"
     ]
    }
   ],
   "source": [
    "# Create the Patients table\n",
    "cursor.execute('''\n",
    "CREATE TABLE IF NOT EXISTS Patients (\n",
    "    Patient_ID INTEGER PRIMARY KEY,\n",
    "    Name TEXT NOT NULL,\n",
    "    Age INTEGER NOT NULL,\n",
    "    Gender TEXT NOT NULL\n",
    ");\n",
    "''')\n",
    "\n",
    "# Create the Treatments table\n",
    "cursor.execute('''\n",
    "CREATE TABLE IF NOT EXISTS Treatments (\n",
    "    Treatment_ID INTEGER PRIMARY KEY,\n",
    "    Patient_ID INTEGER NOT NULL,\n",
    "    Treatment_Name TEXT NOT NULL,\n",
    "    Start_Date DATE,\n",
    "    End_Date DATE,\n",
    "    FOREIGN KEY (Patient_ID) REFERENCES Patients(Patient_ID)\n",
    ");\n",
    "''')\n",
    "\n",
    "# Create the Outcomes table\n",
    "cursor.execute('''\n",
    "CREATE TABLE IF NOT EXISTS Outcomes (\n",
    "    Outcome_ID INTEGER PRIMARY KEY,\n",
    "    Patient_ID INTEGER NOT NULL,\n",
    "    Outcome_Type TEXT NOT NULL,\n",
    "    Value INTEGER NOT NULL,\n",
    "    Date DATE NOT NULL,\n",
    "    FOREIGN KEY (Patient_ID) REFERENCES Patients(Patient_ID)\n",
    ");\n",
    "''')\n",
    "\n",
    "# Create the Visits table\n",
    "cursor.execute('''\n",
    "CREATE TABLE IF NOT EXISTS Visits (\n",
    "    Visit_ID INTEGER PRIMARY KEY,\n",
    "    Patient_ID INTEGER NOT NULL,\n",
    "    Visit_Date DATE NOT NULL,\n",
    "    Doctor TEXT,\n",
    "    Notes TEXT,\n",
    "    FOREIGN KEY (Patient_ID) REFERENCES Patients(Patient_ID)\n",
    ");\n",
    "''')\n",
    "\n",
    "# Insert data into Patients table\n",
    "cursor.execute('''\n",
    "INSERT INTO Patients (Patient_ID, Name, Age, Gender)\n",
    "VALUES \n",
    "(1, 'Alice Doe', 65, 'Female'),\n",
    "(2, 'Bob Smith', 72, 'Male');\n",
    "''')\n",
    "\n",
    "# Insert data into Treatments table\n",
    "cursor.execute('''\n",
    "INSERT INTO Treatments (Treatment_ID, Patient_ID, Treatment_Name, Start_Date, End_Date)\n",
    "VALUES \n",
    "(1, 1, 'Levodopa', '2024-01-01', '2024-06-01'),\n",
    "(2, 2, 'Dopamine Agonist', '2023-05-10', NULL);\n",
    "''')\n",
    "\n",
    "# Insert data into Outcomes table\n",
    "cursor.execute('''\n",
    "INSERT INTO Outcomes (Outcome_ID, Patient_ID, Outcome_Type, Value, Date)\n",
    "VALUES \n",
    "(1, 1, 'UPDRS_Score', 35, '2024-02-15'),\n",
    "(2, 2, 'UPDRS_Score', 42, '2024-03-10');\n",
    "''')\n",
    "\n",
    "# Insert data into Visits table\n",
    "cursor.execute('''\n",
    "INSERT INTO Visits (Visit_ID, Patient_ID, Visit_Date, Doctor, Notes)\n",
    "VALUES \n",
    "(1, 1, '2024-01-15', 'Dr. Brown', 'Initial diagnosis'),\n",
    "(2, 2, '2024-02-20', 'Dr. Green', 'Treatment follow-up');\n",
    "''')\n",
    "\n",
    "# Commit the changes and close the connection\n",
    "conn.commit()\n",
    "conn.close()\n",
    "\n",
    "print(\"Database created and populated successfully!\")\n"
   ]
  },
  {
   "cell_type": "code",
   "execution_count": 4,
   "metadata": {},
   "outputs": [
    {
     "name": "stdout",
     "output_type": "stream",
     "text": [
      "Patients Table:\n",
      "(1, 'Alice Doe', 65, 'Female')\n",
      "(2, 'Bob Smith', 72, 'Male')\n"
     ]
    }
   ],
   "source": [
    "# query the data\n",
    "# Reconnect to the database\n",
    "conn = sqlite3.connect(\"toy_clinical_data.db\")\n",
    "cursor = conn.cursor()\n",
    "\n",
    "# Query the Patients table\n",
    "cursor.execute('SELECT * FROM Patients;')\n",
    "patients = cursor.fetchall()\n",
    "\n",
    "print(\"Patients Table:\")\n",
    "for patient in patients:\n",
    "    print(patient)\n",
    "\n",
    "# Close the connection\n",
    "conn.close()\n"
   ]
  },
  {
   "cell_type": "code",
   "execution_count": 5,
   "metadata": {},
   "outputs": [
    {
     "name": "stdout",
     "output_type": "stream",
     "text": [
      "(1, 'Alice Doe', 65, 'Levodopa', '2024-01-01', '2024-06-01')\n",
      "(2, 'Bob Smith', 72, 'Dopamine Agonist', '2023-05-10', None)\n"
     ]
    }
   ],
   "source": [
    "# more examples: patients and treatments\n",
    "\n",
    "# Reconnect to the database\n",
    "conn = sqlite3.connect(\"toy_clinical_data.db\")\n",
    "cursor = conn.cursor()\n",
    "\n",
    "\n",
    "query = '''\n",
    "SELECT \n",
    "    Patients.Patient_ID,\n",
    "    Patients.Name AS Patient_Name,\n",
    "    Patients.Age,\n",
    "    Treatments.Treatment_Name,\n",
    "    Treatments.Start_Date,\n",
    "    Treatments.End_Date\n",
    "FROM \n",
    "    Patients\n",
    "JOIN \n",
    "    Treatments \n",
    "ON \n",
    "    Patients.Patient_ID = Treatments.Patient_ID;\n",
    "'''\n",
    "\n",
    "cursor.execute(query)\n",
    "results = cursor.fetchall()\n",
    "\n",
    "for row in results:\n",
    "    print(row)\n",
    "\n",
    "conn.close()\n"
   ]
  },
  {
   "cell_type": "code",
   "execution_count": 6,
   "metadata": {},
   "outputs": [
    {
     "name": "stdout",
     "output_type": "stream",
     "text": [
      "(1, 'Alice Doe', 'UPDRS_Score', 35, '2024-02-15')\n",
      "(2, 'Bob Smith', 'UPDRS_Score', 42, '2024-03-10')\n"
     ]
    }
   ],
   "source": [
    "# patient and outcomes\n",
    "\n",
    "# Reconnect to the database\n",
    "conn = sqlite3.connect(\"toy_clinical_data.db\")\n",
    "cursor = conn.cursor()\n",
    "\n",
    "query = '''\n",
    "SELECT \n",
    "    Patients.Patient_ID,\n",
    "    Patients.Name AS Patient_Name,\n",
    "    Outcomes.Outcome_Type,\n",
    "    Outcomes.Value,\n",
    "    Outcomes.Date\n",
    "FROM \n",
    "    Patients\n",
    "JOIN \n",
    "    Outcomes \n",
    "ON \n",
    "    Patients.Patient_ID = Outcomes.Patient_ID;\n",
    "'''\n",
    "\n",
    "cursor.execute(query)\n",
    "results = cursor.fetchall()\n",
    "\n",
    "for row in results:\n",
    "    print(row)\n",
    "\n",
    "conn.close()\n"
   ]
  },
  {
   "cell_type": "code",
   "execution_count": 7,
   "metadata": {},
   "outputs": [
    {
     "name": "stdout",
     "output_type": "stream",
     "text": [
      "(1, 'Alice Doe', 'Levodopa', '2024-01-01', '2024-06-01', 'UPDRS_Score', 35, '2024-02-15')\n",
      "(2, 'Bob Smith', 'Dopamine Agonist', '2023-05-10', None, 'UPDRS_Score', 42, '2024-03-10')\n"
     ]
    }
   ],
   "source": [
    "# patient treatment and outcome (inner join)\n",
    "\n",
    "# Reconnect to the database\n",
    "conn = sqlite3.connect(\"toy_clinical_data.db\")\n",
    "cursor = conn.cursor()\n",
    "\n",
    "query = '''\n",
    "SELECT \n",
    "    Patients.Patient_ID,\n",
    "    Patients.Name AS Patient_Name,\n",
    "    Treatments.Treatment_Name,\n",
    "    Treatments.Start_Date,\n",
    "    Treatments.End_Date,\n",
    "    Outcomes.Outcome_Type,\n",
    "    Outcomes.Value AS Outcome_Value,\n",
    "    Outcomes.Date AS Outcome_Date\n",
    "FROM \n",
    "    Patients\n",
    "JOIN \n",
    "    Treatments \n",
    "ON \n",
    "    Patients.Patient_ID = Treatments.Patient_ID\n",
    "JOIN \n",
    "    Outcomes \n",
    "ON \n",
    "    Patients.Patient_ID = Outcomes.Patient_ID;\n",
    "'''\n",
    "\n",
    "cursor.execute(query)\n",
    "results = cursor.fetchall()\n",
    "\n",
    "for row in results:\n",
    "    print(row)\n",
    "\n",
    "\n",
    "conn.close()"
   ]
  }
 ],
 "metadata": {
  "kernelspec": {
   "display_name": "venv",
   "language": "python",
   "name": "python3"
  },
  "language_info": {
   "codemirror_mode": {
    "name": "ipython",
    "version": 3
   },
   "file_extension": ".py",
   "mimetype": "text/x-python",
   "name": "python",
   "nbconvert_exporter": "python",
   "pygments_lexer": "ipython3",
   "version": "3.11.4"
  }
 },
 "nbformat": 4,
 "nbformat_minor": 2
}
