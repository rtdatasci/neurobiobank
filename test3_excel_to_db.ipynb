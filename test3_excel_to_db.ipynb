{
 "cells": [
  {
   "cell_type": "code",
   "execution_count": null,
   "metadata": {},
   "outputs": [],
   "source": [
    "# import from excel\n",
    "# create DBMS schema"
   ]
  },
  {
   "cell_type": "code",
   "execution_count": null,
   "metadata": {},
   "outputs": [],
   "source": [
    "import pandas as pd\n",
    "import sqlite3\n",
    "\n",
    "# Load Excel file\n",
    "patients = pd.read_excel(\"data.xlsx\", sheet_name=\"Patients\")\n",
    "treatments = pd.read_excel(\"data.xlsx\", sheet_name=\"Treatments\")\n",
    "outcomes = pd.read_excel(\"data.xlsx\", sheet_name=\"Outcomes\")\n",
    "\n",
    "# Connect to SQLite database\n",
    "conn = sqlite3.connect(\"toy_database.db\")\n",
    "cursor = conn.cursor()\n",
    "\n",
    "# Create tables\n",
    "cursor.execute('''\n",
    "CREATE TABLE Patients (\n",
    "    Patient_ID INTEGER PRIMARY KEY,\n",
    "    Name TEXT,\n",
    "    Age INTEGER,\n",
    "    Gender TEXT,\n",
    "    Diagnosis_Date DATE\n",
    ");\n",
    "''')\n",
    "\n",
    "cursor.execute('''\n",
    "CREATE TABLE Treatments (\n",
    "    Treatment_ID INTEGER PRIMARY KEY,\n",
    "    Patient_ID INTEGER,\n",
    "    Treatment_Name TEXT,\n",
    "    Start_Date DATE,\n",
    "    End_Date DATE,\n",
    "    FOREIGN KEY (Patient_ID) REFERENCES Patients (Patient_ID)\n",
    ");\n",
    "''')\n",
    "\n",
    "cursor.execute('''\n",
    "CREATE TABLE Outcomes (\n",
    "    Outcome_ID INTEGER PRIMARY KEY,\n",
    "    Patient_ID INTEGER,\n",
    "    Outcome_Type TEXT,\n",
    "    Value REAL,\n",
    "    Date DATE,\n",
    "    FOREIGN KEY (Patient_ID) REFERENCES Patients (Patient_ID)\n",
    ");\n",
    "''')\n",
    "\n",
    "# Insert data into tables\n",
    "patients.to_sql(\"Patients\", conn, if_exists=\"append\", index=False)\n",
    "treatments.to_sql(\"Treatments\", conn, if_exists=\"append\", index=False)\n",
    "outcomes.to_sql(\"Outcomes\", conn, if_exists=\"append\", index=False)\n",
    "\n",
    "conn.commit()\n",
    "conn.close()\n"
   ]
  }
 ],
 "metadata": {
  "language_info": {
   "name": "python"
  }
 },
 "nbformat": 4,
 "nbformat_minor": 2
}
