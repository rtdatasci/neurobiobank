{
 "cells": [
  {
   "cell_type": "code",
   "execution_count": 1,
   "metadata": {},
   "outputs": [],
   "source": [
    "import sqlite3\n",
    "\n",
    "# Connect to SQLite (or create a new database)\n",
    "conn = sqlite3.connect('parkinsons_clinical_data.db')\n",
    "cursor = conn.cursor()"
   ]
  },
  {
   "cell_type": "code",
   "execution_count": 2,
   "metadata": {},
   "outputs": [],
   "source": [
    "\n",
    "\n",
    "# Create tables\n",
    "cursor.execute('''\n",
    "CREATE TABLE Patients (\n",
    "    Patient_ID INTEGER PRIMARY KEY,\n",
    "    Name TEXT,\n",
    "    Age INTEGER,\n",
    "    Gender TEXT,\n",
    "    Diagnosis_Date DATE\n",
    ")\n",
    "''')\n",
    "\n",
    "cursor.execute('''\n",
    "CREATE TABLE Treatments (\n",
    "    Treatment_ID INTEGER PRIMARY KEY,\n",
    "    Patient_ID INTEGER,\n",
    "    Start_Date DATE,\n",
    "    End_Date DATE,\n",
    "    Drug_Name TEXT,\n",
    "    FOREIGN KEY (Patient_ID) REFERENCES Patients (Patient_ID)\n",
    ")\n",
    "''')\n",
    "\n",
    "cursor.execute('''\n",
    "CREATE TABLE Outcomes (\n",
    "    Outcome_ID INTEGER PRIMARY KEY,\n",
    "    Patient_ID INTEGER,\n",
    "    Measurement_Date DATE,\n",
    "    Outcome_Type TEXT,\n",
    "    Value REAL,\n",
    "    FOREIGN KEY (Patient_ID) REFERENCES Patients (Patient_ID)\n",
    ")\n",
    "''')\n",
    "\n",
    "# Insert toy data\n",
    "cursor.executemany('''\n",
    "INSERT INTO Patients (Patient_ID, Name, Age, Gender, Diagnosis_Date)\n",
    "VALUES (?, ?, ?, ?, ?)\n",
    "''', [\n",
    "    (1, 'Alice Smith', 65, 'F', '2020-01-15'),\n",
    "    (2, 'Bob Jones', 72, 'M', '2019-11-10')\n",
    "])\n",
    "\n",
    "cursor.executemany('''\n",
    "INSERT INTO Treatments (Treatment_ID, Patient_ID, Start_Date, End_Date, Drug_Name)\n",
    "VALUES (?, ?, ?, ?, ?)\n",
    "''', [\n",
    "    (101, 1, '2020-02-01', '2020-12-31', 'Levodopa'),\n",
    "    (102, 2, '2020-01-01', '2021-01-01', 'Ropinirole')\n",
    "])\n",
    "\n",
    "cursor.executemany('''\n",
    "INSERT INTO Outcomes (Outcome_ID, Patient_ID, Measurement_Date, Outcome_Type, Value)\n",
    "VALUES (?, ?, ?, ?, ?)\n",
    "''', [\n",
    "    (201, 1, '2020-03-01', 'UPDRS_Score', 25),\n",
    "    (202, 2, '2020-06-01', 'Walking_Speed', 1.2)\n",
    "])\n",
    "\n",
    "# Commit changes and close connection\n",
    "conn.commit()\n",
    "conn.close()\n"
   ]
  }
 ],
 "metadata": {
  "kernelspec": {
   "display_name": "venv",
   "language": "python",
   "name": "python3"
  },
  "language_info": {
   "codemirror_mode": {
    "name": "ipython",
    "version": 3
   },
   "file_extension": ".py",
   "mimetype": "text/x-python",
   "name": "python",
   "nbconvert_exporter": "python",
   "pygments_lexer": "ipython3",
   "version": "3.11.4"
  }
 },
 "nbformat": 4,
 "nbformat_minor": 2
}
